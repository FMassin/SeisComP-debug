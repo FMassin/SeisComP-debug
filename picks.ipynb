{
 "cells": [
  {
   "cell_type": "code",
   "execution_count": 1,
   "source": [
    "%matplotlib widget"
   ],
   "outputs": [],
   "metadata": {}
  },
  {
   "cell_type": "code",
   "execution_count": 3,
   "source": [
    "from datetime import datetime\n",
    "\n",
    "def getpicklog(f):\n",
    "    with open(f,'r') as content:\n",
    "        picks = [line.strip().split() for line in content if \" A \" in line]\n",
    "    for i,p in enumerate(picks):\n",
    "        ct=p[-1].split('/')[-1].split('.')\n",
    "        picks[i] += ['.'.join(p[2:6])]\n",
    "        picks[i] += [datetime.strptime(p[0]+p[1]+'00000', '%Y-%m-%d%H:%M:%S.%f')]\n",
    "        picks[i] += [datetime.strptime(ct[0]+ct[1], '%Y%m%d%H%M%S%f')]\n",
    "    return picks\n",
    "\n",
    "picksaB = getpicklog('20a/log/NLoB-picklog.2021-10-09')\n",
    "picksbB = getpicklog('20b/log/NLoB-picklog.2021-10-09')\n",
    "picksaT = getpicklog('20a/log/NLoT-picklog.2021-10-09')\n",
    "picksbT = getpicklog('20b/log/NLoT-picklog.2021-10-09')\n",
    "picks3aB = getpicklog('3a/log/NLoB-picklog.2021-10-09')\n",
    "picks3aT = getpicklog('3a/log/NLoT-picklog.2021-10-09')\n",
    "picks3bB = getpicklog('3b/log/NLoB-picklog.2021-10-09')\n",
    "picks3bT = getpicklog('3b/log/NLoT-picklog.2021-10-09')"
   ],
   "outputs": [],
   "metadata": {}
  },
  {
   "cell_type": "code",
   "execution_count": 10,
   "source": [
    "import numpy,matplotlib,os\n",
    "\n",
    "def pickgraph(picks,l,mseedids):\n",
    "    allpicks = []\n",
    "    for pick in picks:\n",
    "        allpicks+=pick \n",
    "    if mseedids is None:\n",
    "        mseedids = list(numpy.sort(list(set([p[-3] for p in allpicks]))))\n",
    "    ax=matplotlib.pyplot.figure(figsize=[6.4*2, 4.8*4]).gca()\n",
    "    ax.tick_params(right=True, top=True,left=True, bottom=True,labelbottom=True, labeltop=True,labelright=True, labelleft=True,which='both')\n",
    "    ax.grid(b=True, which='major', color='gray', linestyle='dashdot', zorder=-999)\n",
    "    ax.grid(b=True, which='minor', color='beige',  ls='-', zorder=-999)\n",
    "\n",
    "    ax.plot(numpy.nan,numpy.nan,'|',color='k',markeredgewidth=2,label='Arrival times')\n",
    "    ax.plot(numpy.nan,numpy.nan,'+',color='k',markeredgewidth=2,label='Creation times')\n",
    "\n",
    "    \n",
    "    for i,pick in enumerate(picks):\n",
    "        ax.plot(numpy.nan,numpy.nan,'+',color='C%d'%i,label=l[i])\n",
    "        y = [mseedids.index(p[-3]) for p in pick]\n",
    "        x = [p[-1] for p in pick]\n",
    "        ax.plot(x,y,'+',markeredgewidth=2,color='C%d'%i,zorder=1)#,label='%s: Creation times'%l[i])\n",
    "        x = [p[-2] for p in pick]\n",
    "        ax.plot(x,y,'|',markeredgewidth=2,color='C%d'%i,zorder=2)#,label=l[i]#'%s: Arrival times'%\n",
    "\n",
    "    ax.set_yticks(range(len(mseedids)))\n",
    "    ax.set_yticklabels(mseedids, fontsize='xx-small')\n",
    "    ax.legend()\n",
    "    ax.xaxis.set_minor_locator(matplotlib.ticker.AutoMinorLocator())\n",
    "    matplotlib.pyplot.tight_layout()\n",
    "    ax.autoscale(enable=True, axis='both', tight=True)\n",
    "    ax.set_ylim([-0.5,len(mseedids)-.5])\n",
    "    ax.set_xlim([min([p[-1] for pick in picks for p in pick]),max([p[-2] for pick in picks for p in pick])])\n",
    "    return ax\n",
    "\n",
    "def setxlim(ax):\n",
    "    ax.set_xlim([datetime.strptime('2021-10-09T22:40:00', '%Y-%m-%dT%H:%M:%S'),datetime.strptime('2021-10-09T22:44:00', '%Y-%m-%dT%H:%M:%S')])\n",
    "os.mkdir('plots/2021-10-09')\n",
    "\n",
    "mseedids = list(numpy.sort(list(set([p[-3] for p in picksbB+picksbT+picksbB+picksbT+picks3bB+picks3bT+picksaB+picksaT+picksaB+picksaT+picks3aB+picks3aT]))))\n",
    "ax=pickgraph([picksbB,\n",
    "              picksbT],\n",
    "             ['NLoB 20B',\n",
    "              'NLoT 20B'],mseedids)\n",
    "ax.set_title('sc20b NLo(T,B)')\n",
    "setxlim(ax)\n",
    "ax.figure.savefig('plots/2021-10-09/%s.jpg'%(ax.get_title()),\n",
    "                             #dpi=512,  \n",
    "                             bbox_inches='tight', \n",
    "                            #transparent=False\n",
    "           )\n",
    "\n",
    "if True:\n",
    "    ax=pickgraph([picksaB,\n",
    "              picksaT],\n",
    "             ['NLoB 20A',\n",
    "              'NLoT 20A'],mseedids)\n",
    "    ax.set_title('sc20a NLo(T,B)')\n",
    "    setxlim(ax)\n",
    "    ax.figure.savefig('plots/2021-10-09/%s.jpg'%(ax.get_title()),\n",
    "                                #dpi=512,  \n",
    "                                bbox_inches='tight', \n",
    "                                #transparent=False\n",
    "            )\n",
    "\n",
    "    ax=pickgraph([picks3aB,\n",
    "                picks3aT],\n",
    "                ['NLoB 3A',\n",
    "                'NLoT 3A'],mseedids)\n",
    "    ax.set_title('sc3a NLo(T,B)')\n",
    "    setxlim(ax)\n",
    "    ax.figure.savefig('plots/2021-10-09/%s.jpg'%(ax.get_title()),\n",
    "                                #dpi=512,  \n",
    "                                bbox_inches='tight', \n",
    "                                #transparent=False\n",
    "            )\n",
    "\n",
    "    ax=pickgraph([picks3bB,\n",
    "                picks3bT],\n",
    "                ['NLoB 3B',\n",
    "                'NLoT 3B'],mseedids)\n",
    "    ax.set_title('sc3b NLo(T,B)')\n",
    "    setxlim(ax)\n",
    "    ax.figure.savefig('plots/2021-10-09/%s.jpg'%(ax.get_title()),\n",
    "                                #dpi=512,  \n",
    "                                bbox_inches='tight', \n",
    "                                #transparent=False\n",
    "            )"
   ],
   "outputs": [
    {
     "output_type": "display_data",
     "data": {
      "application/vnd.jupyter.widget-view+json": {
       "version_major": 2,
       "version_minor": 0,
       "model_id": "d03e0021ff43417db45b56c967a938c6"
      },
      "text/plain": [
       "Canvas(toolbar=Toolbar(toolitems=[('Home', 'Reset original view', 'home', 'home'), ('Back', 'Back to previous …"
      ]
     },
     "metadata": {}
    },
    {
     "output_type": "display_data",
     "data": {
      "application/vnd.jupyter.widget-view+json": {
       "version_major": 2,
       "version_minor": 0,
       "model_id": "2aa3ed479d3442cca020d34ee8777ace"
      },
      "text/plain": [
       "Canvas(toolbar=Toolbar(toolitems=[('Home', 'Reset original view', 'home', 'home'), ('Back', 'Back to previous …"
      ]
     },
     "metadata": {}
    },
    {
     "output_type": "stream",
     "name": "stderr",
     "text": [
      "/var/folders/xf/kwhkj1vx28g94_l2vsd7zhf40000gn/T/ipykernel_24257/1544684131.py:9: RuntimeWarning: More than 20 figures have been opened. Figures created through the pyplot interface (`matplotlib.pyplot.figure`) are retained until explicitly closed and may consume too much memory. (To control this warning, see the rcParam `figure.max_open_warning`).\n",
      "  ax=matplotlib.pyplot.figure(figsize=[6.4*2, 4.8*4]).gca()\n"
     ]
    },
    {
     "output_type": "display_data",
     "data": {
      "application/vnd.jupyter.widget-view+json": {
       "version_major": 2,
       "version_minor": 0,
       "model_id": "b273f3eb6abe4e23bddc514cab4066f1"
      },
      "text/plain": [
       "Canvas(toolbar=Toolbar(toolitems=[('Home', 'Reset original view', 'home', 'home'), ('Back', 'Back to previous …"
      ]
     },
     "metadata": {}
    },
    {
     "output_type": "display_data",
     "data": {
      "application/vnd.jupyter.widget-view+json": {
       "version_major": 2,
       "version_minor": 0,
       "model_id": "ef252d090f9141cea8d6916ab7bb58a3"
      },
      "text/plain": [
       "Canvas(toolbar=Toolbar(toolitems=[('Home', 'Reset original view', 'home', 'home'), ('Back', 'Back to previous …"
      ]
     },
     "metadata": {}
    }
   ],
   "metadata": {}
  },
  {
   "cell_type": "code",
   "execution_count": null,
   "source": [],
   "outputs": [],
   "metadata": {}
  }
 ],
 "metadata": {
  "orig_nbformat": 4,
  "language_info": {
   "name": "python",
   "version": "3.8.10",
   "mimetype": "text/x-python",
   "codemirror_mode": {
    "name": "ipython",
    "version": 3
   },
   "pygments_lexer": "ipython3",
   "nbconvert_exporter": "python",
   "file_extension": ".py"
  },
  "kernelspec": {
   "name": "python3",
   "display_name": "Python 3.8.10 64-bit ('quake': conda)"
  },
  "interpreter": {
   "hash": "519d83470cd08c5f7c99375ba368f1e7631975c70cc7a93892c47e260797a6f4"
  }
 },
 "nbformat": 4,
 "nbformat_minor": 2
}