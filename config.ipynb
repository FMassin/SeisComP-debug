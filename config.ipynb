{
 "cells": [
  {
   "cell_type": "code",
   "execution_count": 5,
   "source": [
    "!find  */etc/ -type f|while read F; do ls ${F/a\\//b\\/} ${F/b\\//a\\/} >/dev/null;done \n"
   ],
   "outputs": [
    {
     "output_type": "stream",
     "name": "stdout",
     "text": [
      "ls: 20b/etc//scwfparam.cfg.fromsc3d: No such file or directory\n",
      "ls: 20b/etc//scardac.cfg: No such file or directory\n",
      "ls: 20a/etc//init/scautomt.py: No such file or directory\n",
      "ls: 20a/etc//init/__pycache__/scautomtlight.cpython-38.pyc: No such file or directory\n",
      "ls: 20a/etc//init/__pycache__/scautomt.cpython-38.pyc: No such file or directory\n",
      "ls: 20a/etc//init/scautomtlight.py: No such file or directory\n",
      "ls: 20a/etc//descriptions/scautomt.xml: No such file or directory\n",
      "ls: 20a/etc//descriptions/scmtv.xml: No such file or directory\n",
      "ls: 20a/etc//defaults/scautomtlight.cfg: No such file or directory\n",
      "ls: 20a/etc//defaults/scautomt.cfg: No such file or directory\n",
      "ls: 20a/etc//defaults/scmtv.cfg: No such file or directory\n",
      "ls: 20a/etc//inventory/FAL44.xml: No such file or directory\n"
     ]
    }
   ],
   "metadata": {}
  },
  {
   "cell_type": "code",
   "execution_count": 4,
   "source": [
    "!find  20*/etc/ -type f |grep -v xml|grep -v mt|grep -v wf|sed 's/^20a//;s/^20b//'|sort -u|while read F; do diff -NarB -U 0  -I 'access:' -I '#' -I 'ethz'  20a${F} 20b${F} ;done "
   ],
   "outputs": [
    {
     "output_type": "stream",
     "name": "stdout",
     "text": [
      "--- 20a/etc//descriptions/aliases\t2021-03-15 14:55:31.000000000 +0100\n",
      "+++ 20b/etc//descriptions/aliases\t2021-03-17 09:23:48.000000000 +0100\n",
      "@@ -2 +1,0 @@\n",
      "-NLoB_auloc = scautoloc\n",
      "@@ -6 +4,0 @@\n",
      "-NTeT_auloc = scautoloc\n",
      "@@ -9 +6,0 @@\n",
      "-NTeT_amp = scamp\n",
      "@@ -10,0 +8,3 @@\n",
      "+NTeT_amp = scamp\n",
      "+NLoB_auloc = scautoloc\n",
      "+NTeT_auloc = scautoloc\n",
      "--- 20a/etc//global.cfg\t2021-09-30 16:21:59.000000000 +0200\n",
      "+++ 20b/etc//global.cfg\t2021-09-29 17:10:14.000000000 +0200\n",
      "@@ -38 +38 @@\n",
      "-connection.server = localhost/production\n",
      "+connection.server = localhost\n",
      "--- 20a/etc//scautoloc.cfg\t2021-03-05 18:58:56.000000000 +0100\n",
      "+++ 20b/etc//scautoloc.cfg\t2021-03-05 19:02:04.000000000 +0100\n",
      "@@ -2 +2 @@\n",
      "-logging.level = 5\n",
      "+logging.level = 4\n",
      "--- 20a/etc//screloc.cfg\t2021-03-18 11:52:26.000000000 +0100\n",
      "+++ 20b/etc//screloc.cfg\t2021-03-18 11:53:48.000000000 +0100\n",
      "@@ -9 +9 @@\n",
      "-logging.level = 4\n",
      "+logging.level = 5\n"
     ]
    }
   ],
   "metadata": {}
  },
  {
   "cell_type": "code",
   "execution_count": null,
   "source": [],
   "outputs": [],
   "metadata": {}
  }
 ],
 "metadata": {
  "orig_nbformat": 4,
  "language_info": {
   "name": "python",
   "version": "3.8.10",
   "mimetype": "text/x-python",
   "codemirror_mode": {
    "name": "ipython",
    "version": 3
   },
   "pygments_lexer": "ipython3",
   "nbconvert_exporter": "python",
   "file_extension": ".py"
  },
  "kernelspec": {
   "name": "python3",
   "display_name": "Python 3.8.10 64-bit ('quake': conda)"
  },
  "interpreter": {
   "hash": "519d83470cd08c5f7c99375ba368f1e7631975c70cc7a93892c47e260797a6f4"
  }
 },
 "nbformat": 4,
 "nbformat_minor": 2
}