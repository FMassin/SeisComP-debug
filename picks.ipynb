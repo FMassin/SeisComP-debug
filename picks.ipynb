{
 "cells": [
  {
   "cell_type": "code",
   "execution_count": 1,
   "source": [
    "%matplotlib widget"
   ],
   "outputs": [],
   "metadata": {}
  },
  {
   "cell_type": "code",
   "execution_count": 11,
   "source": [
    "from datetime import datetime\n",
    "\n",
    "def getpicklog(f):\n",
    "    with open(f,'r') as content:\n",
    "        picks = [line.strip().split() for line in content if \" A \" in line]\n",
    "    for i,p in enumerate(picks):\n",
    "        ct=p[-1].split('/')[-1].split('.')\n",
    "        picks[i] += ['.'.join(p[2:6])]\n",
    "        picks[i] += [datetime.strptime(p[0]+p[1]+'00000', '%Y-%m-%d%H:%M:%S.%f')]\n",
    "        picks[i] += [datetime.strptime(ct[0]+ct[1], '%Y%m%d%H%M%S%f')]\n",
    "    return picks\n",
    "\n",
    "picksaB = getpicklog('20a/log/NLoB-picklog.2021-10-09')\n",
    "picksbB = getpicklog('20b/log/NLoB-picklog.2021-10-09')\n",
    "picksaT = getpicklog('20a/log/NLoT-picklog.2021-10-09')\n",
    "picksbT = getpicklog('20b/log/NLoT-picklog.2021-10-09')\n",
    "picks3aB = getpicklog('3a/log/NLoB-picklog.2021-10-09')\n",
    "picks3aT = getpicklog('3a/log/NLoT-picklog.2021-10-09')\n",
    "picks3bB = getpicklog('3b/log/NLoB-picklog.2021-10-09')\n",
    "picks3bT = getpicklog('3b/log/NLoT-picklog.2021-10-09')"
   ],
   "outputs": [],
   "metadata": {}
  },
  {
   "cell_type": "code",
   "execution_count": 10,
   "source": [
    "import numpy,matplotlib,os\n",
    "\n",
    "def pickgraph(picks,l,mseedids):\n",
    "    allpicks = []\n",
    "    for pick in picks:\n",
    "        allpicks+=pick \n",
    "    if mseedids is None:\n",
    "        mseedids = list(numpy.sort(list(set([p[-3] for p in allpicks]))))\n",
    "    ax=matplotlib.pyplot.figure(figsize=[6.4*2, 4.8*4]).gca()\n",
    "    ax.tick_params(right=True, top=True,left=True, bottom=True,labelbottom=True, labeltop=True,labelright=True, labelleft=True,which='both')\n",
    "    ax.grid(b=True, which='major', color='gray', linestyle='dashdot', zorder=-999)\n",
    "    ax.grid(b=True, which='minor', color='beige',  ls='-', zorder=-999)\n",
    "\n",
    "    ax.plot(numpy.nan,numpy.nan,'|',color='k',markeredgewidth=2,label='Arrival times')\n",
    "    ax.plot(numpy.nan,numpy.nan,'+',color='k',markeredgewidth=2,label='Creation times')\n",
    "\n",
    "    \n",
    "    for i,pick in enumerate(picks):\n",
    "        ax.plot(numpy.nan,numpy.nan,'+',color='C%d'%i,label=l[i])\n",
    "        y = [mseedids.index(p[-3]) for p in pick]\n",
    "        x = [p[-1] for p in pick]\n",
    "        ax.plot(x,y,'+',markeredgewidth=2,color='C%d'%i,zorder=1)#,label='%s: Creation times'%l[i])\n",
    "        x = [p[-2] for p in pick]\n",
    "        ax.plot(x,y,'|',markeredgewidth=2,color='C%d'%i,zorder=2)#,label=l[i]#'%s: Arrival times'%\n",
    "\n",
    "    ax.set_yticks(range(len(mseedids)))\n",
    "    ax.set_yticklabels(mseedids, fontsize='xx-small')\n",
    "    ax.legend()\n",
    "    ax.xaxis.set_minor_locator(matplotlib.ticker.AutoMinorLocator())\n",
    "    matplotlib.pyplot.tight_layout()\n",
    "    ax.autoscale(enable=True, axis='both', tight=True)\n",
    "    ax.set_ylim([-0.5,len(mseedids)-.5])\n",
    "    ax.set_xlim([min([p[-1] for pick in picks for p in pick]),max([p[-2] for pick in picks for p in pick])])\n",
    "    return ax\n",
    "\n",
    "def setxlim(ax):\n",
    "    ax.set_xlim([datetime.strptime('2021-10-09T22:40:00', '%Y-%m-%dT%H:%M:%S'),datetime.strptime('2021-10-09T22:44:00', '%Y-%m-%dT%H:%M:%S')])\n",
    "os.mkdir('plots/2021-10-09')\n",
    "\n",
    "mseedids = list(numpy.sort(list(set([p[-3] for p in picksbB+picksbT+picksbB+picksbT+picks3bB+picks3bT+picksaB+picksaT+picksaB+picksaT+picks3aB+picks3aT]))))\n",
    "ax=pickgraph([picksbB,\n",
    "              picksbT],\n",
    "             ['NLoB 20B',\n",
    "              'NLoT 20B'],mseedids)\n",
    "ax.set_title('sc20b NLo(T,B)')\n",
    "setxlim(ax)\n",
    "ax.figure.savefig('plots/2021-10-09/%s.jpg'%(ax.get_title()),\n",
    "                             #dpi=512,  \n",
    "                             bbox_inches='tight', \n",
    "                            #transparent=False\n",
    "           )\n",
    "\n",
    "if False:\n",
    "    ax=pickgraph([picksaB,\n",
    "              picksaT],\n",
    "             ['NLoB 20A',\n",
    "              'NLoT 20A'],mseedids)\n",
    "    ax.set_title('sc20a NLo(T,B)')\n",
    "    setxlim(ax)\n",
    "    ax.figure.savefig('plots/2021-10-09/%s.jpg'%(ax.get_title()),\n",
    "                                #dpi=512,  \n",
    "                                bbox_inches='tight', \n",
    "                                #transparent=False\n",
    "            )\n",
    "\n",
    "    ax=pickgraph([picks3aB,\n",
    "                picks3aT],\n",
    "                ['NLoB 3A',\n",
    "                'NLoT 3A'],mseedids)\n",
    "    ax.set_title('sc3a NLo(T,B)')\n",
    "    setxlim(ax)\n",
    "    ax.figure.savefig('plots/2021-10-09/%s.jpg'%(ax.get_title()),\n",
    "                                #dpi=512,  \n",
    "                                bbox_inches='tight', \n",
    "                                #transparent=False\n",
    "            )\n",
    "\n",
    "    ax=pickgraph([picks3bB,\n",
    "                picks3bT],\n",
    "                ['NLoB 3B',\n",
    "                'NLoT 3B'],mseedids)\n",
    "    ax.set_title('sc3b NLo(T,B)')\n",
    "    setxlim(ax)\n",
    "    ax.figure.savefig('plots/2021-10-09/%s.jpg'%(ax.get_title()),\n",
    "                                #dpi=512,  \n",
    "                                bbox_inches='tight', \n",
    "                                #transparent=False\n",
    "            )"
   ],
   "outputs": [
    {
     "output_type": "display_data",
     "data": {
      "application/vnd.jupyter.widget-view+json": {
       "version_major": 2,
       "version_minor": 0,
       "model_id": "d03e0021ff43417db45b56c967a938c6"
      },
      "text/plain": [
       "Canvas(toolbar=Toolbar(toolitems=[('Home', 'Reset original view', 'home', 'home'), ('Back', 'Back to previous …"
      ]
     },
     "metadata": {}
    },
    {
     "output_type": "display_data",
     "data": {
      "application/vnd.jupyter.widget-view+json": {
       "version_major": 2,
       "version_minor": 0,
       "model_id": "2aa3ed479d3442cca020d34ee8777ace"
      },
      "text/plain": [
       "Canvas(toolbar=Toolbar(toolitems=[('Home', 'Reset original view', 'home', 'home'), ('Back', 'Back to previous …"
      ]
     },
     "metadata": {}
    },
    {
     "output_type": "stream",
     "name": "stderr",
     "text": [
      "/var/folders/xf/kwhkj1vx28g94_l2vsd7zhf40000gn/T/ipykernel_24257/1544684131.py:9: RuntimeWarning: More than 20 figures have been opened. Figures created through the pyplot interface (`matplotlib.pyplot.figure`) are retained until explicitly closed and may consume too much memory. (To control this warning, see the rcParam `figure.max_open_warning`).\n",
      "  ax=matplotlib.pyplot.figure(figsize=[6.4*2, 4.8*4]).gca()\n"
     ]
    },
    {
     "output_type": "display_data",
     "data": {
      "application/vnd.jupyter.widget-view+json": {
       "version_major": 2,
       "version_minor": 0,
       "model_id": "b273f3eb6abe4e23bddc514cab4066f1"
      },
      "text/plain": [
       "Canvas(toolbar=Toolbar(toolitems=[('Home', 'Reset original view', 'home', 'home'), ('Back', 'Back to previous …"
      ]
     },
     "metadata": {}
    },
    {
     "output_type": "display_data",
     "data": {
      "application/vnd.jupyter.widget-view+json": {
       "version_major": 2,
       "version_minor": 0,
       "model_id": "ef252d090f9141cea8d6916ab7bb58a3"
      },
      "text/plain": [
       "Canvas(toolbar=Toolbar(toolitems=[('Home', 'Reset original view', 'home', 'home'), ('Back', 'Back to previous …"
      ]
     },
     "metadata": {}
    }
   ],
   "metadata": {}
  },
  {
   "cell_type": "code",
   "execution_count": null,
   "source": [],
   "outputs": [],
   "metadata": {}
  },
  {
   "cell_type": "code",
   "execution_count": 13,
   "source": [
    "from obspy.clients.fdsn import Client\n",
    "client = Client(\"http://eida.ethz.ch\")"
   ],
   "outputs": [],
   "metadata": {}
  },
  {
   "cell_type": "code",
   "execution_count": 21,
   "source": [
    "opt={'starttime':'2020-01-01T00:00:00',\n",
    "     'minlatitude':40.8004,\n",
    "     'maxlatitude':47.8067,\n",
    "     'minlongitude':5.9362,\n",
    "     'maxlongitude':10.4958,\n",
    "     'minmagnitude':1.5,\n",
    "     'orderby':'magnitude',\n",
    "     'eventtype':'earthquake'}\n",
    "if True:\n",
    "     catalog=client.get_events(**opt)\n",
    "     catalog_bu=catalog.copy()\n",
    "\n",
    "import geopip\n",
    "def isincountries(la,lo,countrycodes):\n",
    "    if countrycodes is None:\n",
    "        return True\n",
    "    gcode=geopip.search(lng=lo, lat=la)\n",
    "    if gcode is None or gcode['ISO2'] is None:#gcode.country_code is None:\n",
    "        return False\n",
    "    if gcode['ISO2'].lower() in countrycodes:\n",
    "        return True\n",
    "\n",
    "outofinterest=[]\n",
    "for e in catalog_bu: \n",
    "    if isincountries(e.preferred_origin().latitude,\n",
    "                     e.preferred_origin().longitude,\n",
    "                     'ch,li'):\n",
    "        continue\n",
    "    outofinterest+=[e]\n",
    "\n",
    "for e in outofinterest:\n",
    "    catalog.events.remove(e)\n",
    "print(catalog)\n",
    "print('%s events outside ch,li removed'%len(outofinterest))"
   ],
   "outputs": [
    {
     "output_type": "stream",
     "name": "stdout",
     "text": [
      "332 Event(s) in Catalog:\n",
      "2020-10-25T19:35:43.383892Z | +46.905,   +9.125 | 4.324859837 MLh | manual\n",
      "2021-10-05T05:39:25.176962Z | +45.975,   +7.515 | 4.114662185 MLhc | manual\n",
      "...\n",
      "2021-06-03T16:19:38.563176Z | +46.227,   +7.532 | 1.503589118 MLhc | manual\n",
      "2021-07-01T11:45:05.551089Z | +46.622,   +8.372 | 1.503187679 MLhc | manual\n",
      "To see all events call 'print(CatalogObject.__str__(print_all=True))'\n",
      "128 events outside ch,li removed\n"
     ]
    }
   ],
   "metadata": {}
  },
  {
   "cell_type": "code",
   "execution_count": 116,
   "source": [
    "import numpy,matplotlib,os\n",
    "def getpicklog(f):\n",
    "    if not os.path.exists(f):\n",
    "        return []\n",
    "    with open(f,'r') as content:\n",
    "        picks = [line.strip().split() for line in content if \" A \" in line]\n",
    "    for i,p in enumerate(picks):\n",
    "        ct=p[-1].split('/')[-1].split('.')\n",
    "        picks[i] += ['.'.join(p[2:6])]\n",
    "        picks[i] += [datetime.strptime(p[0]+p[1]+'00000', '%Y-%m-%d%H:%M:%S.%f')]\n",
    "        picks[i] += [datetime.strptime(ct[0]+ct[1], '%Y%m%d%H%M%S%f')]\n",
    "    return picks\n",
    "\n",
    "def pickgraph(picks,xlim=None,save=None,mseedids=None,close=False):\n",
    "    allpicks = []\n",
    "    figdelay = 0\n",
    "    for k in picks:\n",
    "        allpicks+=picks[k]\n",
    "    if mseedids is None:\n",
    "        mseedids = list(numpy.sort(list(set([p[-3] for p in allpicks]))))\n",
    "    if xlim is None:\n",
    "        xlim = ([min([p[-1] for p in allpicks]),max([p[-2] for p in allpicks])])\n",
    "\n",
    "    lines = list(set([k[0] for k in picks if len(picks[k])]))\n",
    "    pipelines = list(set([k[1] for k in picks if len(picks[k])]))\n",
    "\n",
    "    if len(allpicks)==0:\n",
    "        print('No data')\n",
    "        print(picks)\n",
    "        return\n",
    "    fig, axes = matplotlib.pyplot.subplots(nrows=1, ncols=len(lines), \n",
    "                                     sharex=True, sharey=True, \n",
    "                                     gridspec_kw={'wspace':0},\n",
    "                                     constrained_layout=True,\n",
    "                                     figsize=(10*len(lines),len(mseedids)*.1))\n",
    "\n",
    "    for l,line in enumerate(lines):\n",
    "        ax = axes\n",
    "        if len(lines)>1:\n",
    "            ax = axes[l]\n",
    "\n",
    "        ax.tick_params(right=True, top=True,left=True, bottom=True,\n",
    "                       labelbottom=True, labeltop=True,labelright=True, labelleft=True,\n",
    "                       which='both')\n",
    "        ax.xaxis.label.set_size('small')\n",
    "        \n",
    "        if l==0:\n",
    "            ax.tick_params(labelright=False)\n",
    "        elif l==len(lines)-1:\n",
    "            ax.tick_params(labelleft=False)\n",
    "        else:\n",
    "            ax.tick_params(labelright=False,labelleft=False)\n",
    "        ax.grid(b=True, which='major', color='gray', linestyle='dashdot', zorder=-999)\n",
    "        ax.grid(axis='x', which='minor', color='beige',  ls='-', zorder=-999)\n",
    "\n",
    "        ax.plot(numpy.nan,numpy.nan,'|',color='k',markeredgewidth=2,label='Arrival times')\n",
    "        ax.plot(numpy.nan,numpy.nan,'+',color='k',markeredgewidth=2,label='Creation times')\n",
    "\n",
    "        ax.set_yticks(range(len(mseedids)))\n",
    "        ax.set_yticklabels(mseedids, fontsize='xx-small')\n",
    "        ax.set_ylim([-0.5,len(mseedids)-.5])\n",
    "        \n",
    "        ax.xaxis.set_minor_locator(matplotlib.ticker.AutoMinorLocator())\n",
    "        ax.set_xlim([t.datetime for t in xlim])\n",
    "            \n",
    "        \n",
    "        for i,pipeline in enumerate(pipelines):\n",
    "            pick = [p for p in picks[(line,pipeline)] if p[-1]>xlim[0]if p[-1]<xlim[1] ]\n",
    "            \n",
    "            ax.plot(numpy.nan,numpy.nan,'+',color='C%d'%i,label=pipeline)\n",
    "\n",
    "            s = [(p[-1]-p[-2]).total_seconds() for p in pick]\n",
    "            figdelay = max([figdelay, numpy.percentile(s,95)])\n",
    "            y = [mseedids.index(p[-3]) for p in pick]\n",
    "            opt={'y':y,\n",
    "                 's':[((e+8)*8)**.8 for e in s],\n",
    "                 'capstyle':'round',\n",
    "                 'color':'C%d'%i}\n",
    "\n",
    "            x = [p[-1] for p in pick ]\n",
    "            if False:\n",
    "                for k in range(8):\n",
    "                    ax.scatter(x,**opt,marker='+',zorder=1,\n",
    "                            linewidths=[(w/50+2)*k for w in s],\n",
    "                            alpha=(8-k)/8)\n",
    "            ax.scatter(x,**opt,marker='+',linewidth=2,zorder=1)\n",
    "\n",
    "            x=[p[-2] for p in pick ]\n",
    "            if False:\n",
    "                for k in range(8):\n",
    "                    ax.scatter(x,**opt,marker='+',zorder=1,\n",
    "                            linewidths=[(w/50+2)*k for w in s],\n",
    "                            alpha=(8-k)/8)\n",
    "            ax.scatter(x,**opt,marker='|',linewidth=2,zorder=2)\n",
    "        \n",
    "        for s in [3,10,30,100]:\n",
    "            ax.scatter(numpy.nan,numpy.nan,s=((s+8)*8)**.8,marker='+',color='k',label='%s s delay'%s)\n",
    "\n",
    "        ax.legend(title=line)\n",
    "        ax.set_title(line)\n",
    "\n",
    "\n",
    "    strxlim = [str(x) for x in xlim]\n",
    "    figname=''\n",
    "    for i in range(min([len(x) for x in strxlim])):\n",
    "        if strxlim[0][i]!=strxlim[1][i]:\n",
    "            break\n",
    "        figname+=strxlim[0][i]\n",
    "    fig.suptitle('Pick logs on %s (95%s within %.1f s)'%(figname,'%',figdelay))\n",
    "\n",
    "    if save is not None:\n",
    "        if '%' in save:\n",
    "            save=save%(int((figdelay+5)/10)*10)\n",
    "        d=os.path.dirname(save)\n",
    "        if not os.path.isdir(d):\n",
    "            print('Making  %s...'%d)\n",
    "            os.makedirs(d)\n",
    "        print('Saving in %s...'%save)\n",
    "        fig.savefig(save,\n",
    "                    bbox_inches='tight', \n",
    "                    )\n",
    "    if close:\n",
    "        matplotlib.pyplot.close(fig)\n",
    "        return\n",
    "    return fig\n",
    "\n",
    "\n",
    "eventids = numpy.argsort([e.preferred_magnitude().mag for e in catalog])[-1::-1]\n",
    "\n",
    "for e in [54]:#eventids[:32]:\n",
    "    day = str(catalog[e].preferred_origin().time).split('T')[0]\n",
    "    fpat='%s/log/%s-picklog.%s'\n",
    "    picks = {(line,alias):getpicklog(fpat%(line,alias,day)) for line in ['20a','20b','3a','3b'] for alias in ['NLoT','NLoB']}\n",
    "    \n",
    "    fig=pickgraph(picks,\n",
    "                  xlim=[catalog[e].preferred_origin().time-60,\n",
    "                        catalog[e].preferred_origin().time+3*60],\n",
    "                  save='plots/events/%ds_delayed_'+str(catalog[e].preferred_origin().time).split('.')[0].replace(':','h',1).replace(':','m',1)+'.jpg',\n",
    "                  close=True)\n",
    "\n",
    "\n",
    "     "
   ],
   "outputs": [
    {
     "output_type": "display_data",
     "data": {
      "application/vnd.jupyter.widget-view+json": {
       "version_major": 2,
       "version_minor": 0,
       "model_id": "a898079d6cd642ce9bfaa44a356cd024"
      },
      "text/plain": [
       "Canvas(toolbar=Toolbar(toolitems=[('Home', 'Reset original view', 'home', 'home'), ('Back', 'Back to previous …"
      ]
     },
     "metadata": {}
    },
    {
     "output_type": "stream",
     "name": "stdout",
     "text": [
      "Saving in plots/events/10s_delayed_2021-03-23T23h27m46.jpg...\n"
     ]
    }
   ],
   "metadata": {}
  },
  {
   "cell_type": "code",
   "execution_count": 58,
   "source": [
    "matplotlib.pyplot.close('all')"
   ],
   "outputs": [],
   "metadata": {}
  }
 ],
 "metadata": {
  "orig_nbformat": 4,
  "language_info": {
   "name": "python",
   "version": "3.8.10",
   "mimetype": "text/x-python",
   "codemirror_mode": {
    "name": "ipython",
    "version": 3
   },
   "pygments_lexer": "ipython3",
   "nbconvert_exporter": "python",
   "file_extension": ".py"
  },
  "kernelspec": {
   "name": "python3",
   "display_name": "Python 3.8.10 64-bit ('quake': conda)"
  },
  "interpreter": {
   "hash": "519d83470cd08c5f7c99375ba368f1e7631975c70cc7a93892c47e260797a6f4"
  }
 },
 "nbformat": 4,
 "nbformat_minor": 2
}